{
 "cells": [
  {
   "cell_type": "code",
   "execution_count": 2,
   "id": "1c1a68ba",
   "metadata": {},
   "outputs": [],
   "source": [
    "with open('day2_input') as f:\n",
    "    commanads = f.readlines()\n",
    "commands = [c.strip() for c in commands]"
   ]
  },
  {
   "cell_type": "code",
   "execution_count": 3,
   "id": "ed7814e8",
   "metadata": {},
   "outputs": [],
   "source": [
    "horiz = 0\n",
    "depth = 0\n",
    "for command in commands:\n",
    "    steps = int(command[-1])\n",
    "    if command[0] == 'f':\n",
    "        horiz += steps\n",
    "    else:\n",
    "        if command[0] == 'u':\n",
    "            depth -= steps\n",
    "        else:\n",
    "            depth += steps"
   ]
  },
  {
   "cell_type": "code",
   "execution_count": 4,
   "id": "0f43f778",
   "metadata": {},
   "outputs": [
    {
     "data": {
      "text/plain": [
       "1924923"
      ]
     },
     "execution_count": 4,
     "metadata": {},
     "output_type": "execute_result"
    }
   ],
   "source": [
    "horiz * depth"
   ]
  },
  {
   "cell_type": "code",
   "execution_count": 10,
   "id": "c4f463d4",
   "metadata": {},
   "outputs": [],
   "source": [
    "aim = 0\n",
    "aim_horiz = 0\n",
    "aim_depth = 0\n",
    "\n",
    "for command in commands:\n",
    "    val = int(command[-1])\n",
    "    direction = command[0]\n",
    "    if direction == 'f':\n",
    "        aim_horiz += val\n",
    "        aim_depth += aim * val\n",
    "    else:\n",
    "        if direction == 'u':\n",
    "            aim -= val\n",
    "        else:\n",
    "            aim += val"
   ]
  },
  {
   "cell_type": "code",
   "execution_count": 11,
   "id": "dc9887e3",
   "metadata": {},
   "outputs": [
    {
     "data": {
      "text/plain": [
       "1982495697"
      ]
     },
     "execution_count": 11,
     "metadata": {},
     "output_type": "execute_result"
    }
   ],
   "source": [
    "aim_horiz * aim_depth"
   ]
  },
  {
   "cell_type": "code",
   "execution_count": null,
   "id": "4b1b7c33",
   "metadata": {},
   "outputs": [],
   "source": []
  }
 ],
 "metadata": {
  "kernelspec": {
   "display_name": "Python 3 (ipykernel)",
   "language": "python",
   "name": "python3"
  },
  "language_info": {
   "codemirror_mode": {
    "name": "ipython",
    "version": 3
   },
   "file_extension": ".py",
   "mimetype": "text/x-python",
   "name": "python",
   "nbconvert_exporter": "python",
   "pygments_lexer": "ipython3",
   "version": "3.9.7"
  }
 },
 "nbformat": 4,
 "nbformat_minor": 5
}

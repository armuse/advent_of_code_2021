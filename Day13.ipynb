{
 "cells": [
  {
   "cell_type": "code",
   "execution_count": 322,
   "id": "2cffb058",
   "metadata": {},
   "outputs": [],
   "source": [
    "with open('day13_input') as f:\n",
    "    lines = f.readlines()"
   ]
  },
  {
   "cell_type": "code",
   "execution_count": 323,
   "id": "3b864700",
   "metadata": {},
   "outputs": [],
   "source": [
    "import re\n",
    "import numpy as np"
   ]
  },
  {
   "cell_type": "code",
   "execution_count": 324,
   "id": "d2c2a0b8",
   "metadata": {},
   "outputs": [],
   "source": [
    "points = []\n",
    "commands = []\n",
    "for line in lines:\n",
    "    try:\n",
    "        int(line[0])\n",
    "        points.append(line.strip())\n",
    "    except:\n",
    "        commands.append(line.strip())"
   ]
  },
  {
   "cell_type": "code",
   "execution_count": 325,
   "id": "af5399b8",
   "metadata": {},
   "outputs": [],
   "source": [
    "points = [data.split(',') for data in points]\n",
    "points = [[int(p[0]), int(p[1])] for p in points]"
   ]
  },
  {
   "cell_type": "code",
   "execution_count": 326,
   "id": "32fd3cde",
   "metadata": {},
   "outputs": [],
   "source": [
    "commands = [command.strip() for command in commands]\n",
    "folds = []\n",
    "for command in commands:\n",
    "    if command == '':\n",
    "        continue\n",
    "    fold = command[11:]\n",
    "    folds.append((fold[0], fold[2:]))"
   ]
  },
  {
   "cell_type": "code",
   "execution_count": 327,
   "id": "91966f94",
   "metadata": {},
   "outputs": [],
   "source": [
    "maxp = 0\n",
    "for p in points:\n",
    "    if p[0] > maxp: \n",
    "        maxp = p[0]\n",
    "    if p[1] > maxp:\n",
    "        maxp = p[1]"
   ]
  },
  {
   "cell_type": "code",
   "execution_count": 328,
   "id": "addcee9b",
   "metadata": {},
   "outputs": [],
   "source": [
    "origami = np.zeros((maxp + 1, 894 + 1)).astype(bool)\n",
    "for point in points:\n",
    "    origami[point[0]][point[1]] = True"
   ]
  },
  {
   "cell_type": "code",
   "execution_count": 335,
   "id": "ab3d356e",
   "metadata": {},
   "outputs": [],
   "source": [
    "def fold_x(ori, axis):\n",
    "    top = ori[:axis, :]\n",
    "    bottom = np.flip(ori[axis+1:, :], 0)\n",
    "    assert top[5, :].all() == bottom[5, :].all(), \"flip not done right\"\n",
    "    return np.add(top, bottom)\n",
    "def fold_y(ori, axis):\n",
    "    left = ori[:, :axis]\n",
    "    right = np.flip(ori[:, axis+1:], 1)\n",
    "    return np.add(left, right)"
   ]
  },
  {
   "cell_type": "code",
   "execution_count": 336,
   "id": "76462327",
   "metadata": {},
   "outputs": [
    {
     "data": {
      "text/plain": [
       "729"
      ]
     },
     "execution_count": 336,
     "metadata": {},
     "output_type": "execute_result"
    }
   ],
   "source": [
    "ori2 = fold_x(origami, 655)\n",
    "double = ori2[ori2==True]\n",
    "len(double) "
   ]
  },
  {
   "cell_type": "code",
   "execution_count": 337,
   "id": "dc88611f",
   "metadata": {},
   "outputs": [
    {
     "name": "stdout",
     "output_type": "stream",
     "text": [
      "('x', '655') (1311, 895)\n",
      "('y', '447') (655, 895)\n",
      "('x', '327') (655, 447)\n",
      "('y', '223') (327, 447)\n",
      "('x', '163') (327, 223)\n",
      "('y', '111') (163, 223)\n",
      "('x', '81') (163, 111)\n",
      "('y', '55') (81, 111)\n",
      "('x', '40') (81, 55)\n",
      "('y', '27') (40, 55)\n",
      "('y', '13') (40, 27)\n",
      "('y', '6') (40, 13)\n"
     ]
    }
   ],
   "source": [
    "folded_ori = origami.copy()\n",
    "for fold in folds:\n",
    "    print(fold, folded_ori.shape)\n",
    "    if fold[0] == 'x':\n",
    "        folded_ori = fold_x(folded_ori, int(fold[1]))\n",
    "    else:\n",
    "        folded_ori = fold_y(folded_ori, int(fold[1]))"
   ]
  },
  {
   "cell_type": "code",
   "execution_count": 338,
   "id": "741232f9",
   "metadata": {},
   "outputs": [],
   "source": [
    "# make instruction code human readable\n",
    "instructions = []\n",
    "for row in folded_ori:\n",
    "    tot_row = []\n",
    "    for col in row:\n",
    "        tot_row.append(\"#\" if col == True else \".\")\n",
    "    instructions.append(tot_row)"
   ]
  },
  {
   "cell_type": "code",
   "execution_count": 339,
   "id": "2a243f5f",
   "metadata": {},
   "outputs": [
    {
     "data": {
      "text/plain": [
       "array([['.', '.', '.', '.', '.', '.'],\n",
       "       ['.', '#', '#', '.', '.', '.'],\n",
       "       ['#', '.', '.', '#', '.', '.'],\n",
       "       ['#', '.', '.', '#', '.', '.'],\n",
       "       ['#', '#', '#', '#', '#', '#'],\n",
       "       ['.', '.', '.', '.', '.', '.'],\n",
       "       ['#', '.', '.', '.', '.', '.'],\n",
       "       ['#', '.', '#', '.', '.', '.'],\n",
       "       ['#', '.', '#', '.', '.', '.'],\n",
       "       ['#', '#', '#', '#', '#', '#'],\n",
       "       ['.', '.', '.', '.', '.', '.'],\n",
       "       ['#', '#', '#', '#', '#', '#'],\n",
       "       ['.', '.', '#', '.', '.', '.'],\n",
       "       ['.', '.', '#', '.', '.', '.'],\n",
       "       ['#', '#', '#', '#', '#', '#'],\n",
       "       ['.', '.', '.', '.', '.', '.'],\n",
       "       ['.', '#', '.', '#', '#', '.'],\n",
       "       ['#', '.', '#', '.', '.', '#'],\n",
       "       ['#', '.', '#', '.', '.', '#'],\n",
       "       ['#', '#', '#', '#', '#', '#'],\n",
       "       ['.', '.', '.', '.', '.', '.'],\n",
       "       ['.', '.', '.', '.', '.', '#'],\n",
       "       ['.', '.', '.', '.', '.', '#'],\n",
       "       ['.', '.', '.', '.', '.', '#'],\n",
       "       ['#', '#', '#', '#', '#', '#'],\n",
       "       ['.', '.', '.', '.', '.', '.'],\n",
       "       ['#', '#', '.', '.', '.', '#'],\n",
       "       ['#', '.', '#', '.', '.', '#'],\n",
       "       ['#', '.', '.', '#', '.', '#'],\n",
       "       ['#', '.', '.', '.', '#', '#'],\n",
       "       ['.', '.', '.', '.', '.', '.'],\n",
       "       ['.', '#', '.', '#', '#', '#'],\n",
       "       ['#', '.', '.', '#', '.', '#'],\n",
       "       ['#', '.', '.', '.', '.', '#'],\n",
       "       ['.', '#', '#', '#', '#', '.'],\n",
       "       ['.', '.', '.', '.', '.', '.'],\n",
       "       ['.', '#', '#', '.', '.', '#'],\n",
       "       ['#', '.', '.', '#', '#', '.'],\n",
       "       ['#', '.', '.', '#', '.', '.'],\n",
       "       ['#', '#', '#', '#', '#', '#']], dtype='<U1')"
      ]
     },
     "execution_count": 339,
     "metadata": {},
     "output_type": "execute_result"
    }
   ],
   "source": [
    "np.flip(instructions,0)"
   ]
  },
  {
   "cell_type": "code",
   "execution_count": 319,
   "id": "0574823b",
   "metadata": {},
   "outputs": [
    {
     "data": {
      "text/plain": [
       "'RGZLBHFP'"
      ]
     },
     "execution_count": 319,
     "metadata": {},
     "output_type": "execute_result"
    }
   ],
   "source": [
    "'RGZLBHFP'"
   ]
  },
  {
   "cell_type": "code",
   "execution_count": null,
   "id": "fec15dd4",
   "metadata": {},
   "outputs": [],
   "source": []
  },
  {
   "cell_type": "code",
   "execution_count": null,
   "id": "396ad57f",
   "metadata": {},
   "outputs": [],
   "source": []
  }
 ],
 "metadata": {
  "kernelspec": {
   "display_name": "Python 3 (ipykernel)",
   "language": "python",
   "name": "python3"
  },
  "language_info": {
   "codemirror_mode": {
    "name": "ipython",
    "version": 3
   },
   "file_extension": ".py",
   "mimetype": "text/x-python",
   "name": "python",
   "nbconvert_exporter": "python",
   "pygments_lexer": "ipython3",
   "version": "3.9.7"
  }
 },
 "nbformat": 4,
 "nbformat_minor": 5
}

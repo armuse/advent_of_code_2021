{
 "cells": [
  {
   "cell_type": "code",
   "execution_count": 1,
   "id": "ce46b1c0",
   "metadata": {},
   "outputs": [],
   "source": [
    "with open('day7_input') as f:\n",
    "    crab_locs = f.readline()\n",
    "crabs = crab_locs.split(',')"
   ]
  },
  {
   "cell_type": "code",
   "execution_count": 2,
   "id": "ef687dcb",
   "metadata": {},
   "outputs": [],
   "source": [
    "crabs = [int(loc) for loc in crabs]"
   ]
  },
  {
   "cell_type": "code",
   "execution_count": 3,
   "id": "5653df49",
   "metadata": {},
   "outputs": [],
   "source": [
    "max_loc = max(crabs)"
   ]
  },
  {
   "cell_type": "code",
   "execution_count": null,
   "id": "9813f950",
   "metadata": {},
   "outputs": [],
   "source": [
    "# part A"
   ]
  },
  {
   "cell_type": "code",
   "execution_count": null,
   "id": "363b5e11",
   "metadata": {},
   "outputs": [],
   "source": [
    "min_fuel = max_loc * max_loc\n",
    "for l in range(max_loc):\n",
    "    fuel = 0\n",
    "    for c in crabs:\n",
    "        fuel += abs(c - l)\n",
    "    if fuel < min_fuel:\n",
    "        min_fuel = fuel"
   ]
  },
  {
   "cell_type": "code",
   "execution_count": null,
   "id": "517a7d34",
   "metadata": {},
   "outputs": [],
   "source": [
    "min_fuel"
   ]
  },
  {
   "cell_type": "code",
   "execution_count": null,
   "id": "ad41ddff",
   "metadata": {},
   "outputs": [],
   "source": [
    "# part B - can try to save already calculated values in future?"
   ]
  },
  {
   "cell_type": "code",
   "execution_count": 16,
   "id": "5d95d012",
   "metadata": {},
   "outputs": [],
   "source": [
    "def burn_rate(diff):  # nth triangle number - n(n+1)/2\n",
    "    cost = diff * (diff + 1) / 2\n",
    "    return cost"
   ]
  },
  {
   "cell_type": "code",
   "execution_count": 17,
   "id": "cea207e4",
   "metadata": {},
   "outputs": [],
   "source": [
    "min_fuel = max_loc ** 5\n",
    "for l in range(max_loc):\n",
    "    fuel = 0\n",
    "    for c in crabs:\n",
    "        dist = abs(c - l)\n",
    "        fuel += burn_rate(dist)\n",
    "    if fuel < min_fuel:\n",
    "        min_fuel = fuel"
   ]
  },
  {
   "cell_type": "code",
   "execution_count": 18,
   "id": "7c332660",
   "metadata": {},
   "outputs": [
    {
     "data": {
      "text/plain": [
       "97038163.0"
      ]
     },
     "execution_count": 18,
     "metadata": {},
     "output_type": "execute_result"
    }
   ],
   "source": [
    "min_fuel"
   ]
  }
 ],
 "metadata": {
  "kernelspec": {
   "display_name": "Python 3 (ipykernel)",
   "language": "python",
   "name": "python3"
  },
  "language_info": {
   "codemirror_mode": {
    "name": "ipython",
    "version": 3
   },
   "file_extension": ".py",
   "mimetype": "text/x-python",
   "name": "python",
   "nbconvert_exporter": "python",
   "pygments_lexer": "ipython3",
   "version": "3.9.7"
  }
 },
 "nbformat": 4,
 "nbformat_minor": 5
}

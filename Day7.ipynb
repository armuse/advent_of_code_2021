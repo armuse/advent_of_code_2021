{
 "cells": [
  {
   "cell_type": "code",
   "execution_count": 1,
   "id": "6dc3473d",
   "metadata": {},
   "outputs": [],
   "source": [
    "with open('day7_input') as f:\n",
    "    crab_locs = f.readline()\n",
    "crabs = crab_locs.split(',')"
   ]
  },
  {
   "cell_type": "code",
   "execution_count": 3,
   "id": "2e32894d",
   "metadata": {},
   "outputs": [],
   "source": [
    "crabs = [int(loc) for loc in crabs]"
   ]
  },
  {
   "cell_type": "code",
   "execution_count": 7,
   "id": "55357e68",
   "metadata": {},
   "outputs": [],
   "source": [
    "max_loc = max(crabs)"
   ]
  },
  {
   "cell_type": "code",
   "execution_count": 10,
   "id": "d61d2b6d",
   "metadata": {},
   "outputs": [],
   "source": [
    "min_fuel = max_loc * max_loc\n",
    "for l in range(max_loc):\n",
    "    fuel = 0\n",
    "    for c in crabs:\n",
    "        fuel += abs(c - l)\n",
    "    if fuel < min_fuel:\n",
    "        min_fuel = fuel"
   ]
  },
  {
   "cell_type": "code",
   "execution_count": 11,
   "id": "0aec5482",
   "metadata": {},
   "outputs": [
    {
     "data": {
      "text/plain": [
       "345035"
      ]
     },
     "execution_count": 11,
     "metadata": {},
     "output_type": "execute_result"
    }
   ],
   "source": [
    "min_fuel"
   ]
  },
  {
   "cell_type": "code",
   "execution_count": 12,
   "id": "c6b174b7",
   "metadata": {},
   "outputs": [],
   "source": [
    "#part B"
   ]
  },
  {
   "cell_type": "code",
   "execution_count": 13,
   "id": "803abefe",
   "metadata": {},
   "outputs": [],
   "source": [
    "import math"
   ]
  },
  {
   "cell_type": "code",
   "execution_count": null,
   "id": "dfb79567",
   "metadata": {},
   "outputs": [],
   "source": [
    "min_fuel = max_loc * max_loc\n",
    "for l in range(max_loc):\n",
    "    fuel = 0\n",
    "    for c in crabs:\n",
    "        dist = abs(c - l)\n",
    "        fuel = math.factorial(dist)\n",
    "    if fuel < min_fuel:\n",
    "        min_fuel = fuel"
   ]
  },
  {
   "cell_type": "code",
   "execution_count": null,
   "id": "5427273e",
   "metadata": {},
   "outputs": [],
   "source": [
    "min_fuel"
   ]
  },
  {
   "cell_type": "code",
   "execution_count": null,
   "id": "d5174f41",
   "metadata": {},
   "outputs": [],
   "source": []
  }
 ],
 "metadata": {
  "kernelspec": {
   "display_name": "Python 3 (ipykernel)",
   "language": "python",
   "name": "python3"
  },
  "language_info": {
   "codemirror_mode": {
    "name": "ipython",
    "version": 3
   },
   "file_extension": ".py",
   "mimetype": "text/x-python",
   "name": "python",
   "nbconvert_exporter": "python",
   "pygments_lexer": "ipython3",
   "version": "3.9.7"
  }
 },
 "nbformat": 4,
 "nbformat_minor": 5
}

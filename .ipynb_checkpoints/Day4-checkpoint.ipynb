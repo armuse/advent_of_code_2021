{
 "cells": [
  {
   "cell_type": "code",
   "execution_count": 60,
   "id": "d8146e29",
   "metadata": {},
   "outputs": [],
   "source": [
    "with open('day4_input') as f:\n",
    "    bingo = f.readlines()\n",
    "bingo = [b.strip() for b in bingo]"
   ]
  },
  {
   "cell_type": "code",
   "execution_count": 61,
   "id": "16535b46",
   "metadata": {},
   "outputs": [],
   "source": [
    "bingo_calls = bingo[0]\n",
    "calls = bingo_calls.split(',')\n",
    "calls = [int(call) for call in calls]"
   ]
  },
  {
   "cell_type": "code",
   "execution_count": 62,
   "id": "6b6c21ac",
   "metadata": {},
   "outputs": [],
   "source": [
    "calls = bingo_calls.split(',')\n",
    "calls = [int(call) for call in calls]"
   ]
  },
  {
   "cell_type": "code",
   "execution_count": 66,
   "id": "613fffeb",
   "metadata": {},
   "outputs": [],
   "source": [
    "class Card():\n",
    "    def __init__(self, array):\n",
    "        self.row1 = array[0]\n",
    "        self.row2 = array[1]\n",
    "        self.row3 = array[2]\n",
    "        self.row4 = array[3]\n",
    "        self.row5 = array[4]\n",
    "        self.col1 = [x[0] for x in array]\n",
    "        self.col2 = [x[1] for x in array]\n",
    "        self.col3 = [x[2] for x in array]\n",
    "        self.col4 = [x[3] for x in array]\n",
    "        self.col5 = [x[4] for x in array]\n",
    "    def is_bingo(self):\n",
    "        if len(self.row1) == 0 or len(self.row2) == 0 or len(self.row3) == 0 or len(self.row4) == 0 or len(self.row5) == 0:\n",
    "            return True\n",
    "        elif len(self.col1) == 0 or len(self.col2) == 0 or len(self.row3) == 0 or len(self.row4) == 0 or len(self.row5) == 0:\n",
    "            return True\n",
    "        else:\n",
    "            return False\n",
    "    def called_num(self, num):\n",
    "        if num in self.row1: self.row1.remove(num)\n",
    "        if num in self.row2: self.row2.remove(num)\n",
    "        if num in self.row3: self.row3.remove(num)\n",
    "        if num in self.row4: self.row4.remove(num)\n",
    "        if num in self.row5: self.row5.remove(num)\n",
    "        if num in self.col1: self.col1.remove(num)\n",
    "        if num in self.col2: self.col2.remove(num)\n",
    "        if num in self.col3: self.col3.remove(num)\n",
    "        if num in self.col4: self.col4.remove(num)\n",
    "        if num in self.col5: self.col5.remove(num)\n",
    "    def get_tot(self):\n",
    "        remaining_card = [self.row1, self.row2, self.row3, self.row4, self.row5]\n",
    "        tot = 0\n",
    "        for r in remaining_card:\n",
    "            r_sum =  0\n",
    "            for cell in r:\n",
    "                r_sum += cell\n",
    "            tot += r_sum\n",
    "        return tot\n",
    "    "
   ]
  },
  {
   "cell_type": "code",
   "execution_count": 68,
   "id": "a47d8b1c",
   "metadata": {},
   "outputs": [],
   "source": [
    "b = 0\n",
    "temp_card = []\n",
    "all_cards = []\n",
    "while b < len(bingo):\n",
    "    if b < 2: pass\n",
    "    elif bingo[b] == '': \n",
    "        if len(temp_card) > 1: \n",
    "            all_cards.append(temp_card)\n",
    "            temp_card = []\n",
    "    else:\n",
    "        nums = bingo[b].split()\n",
    "        nums = [int(num) for num in nums]\n",
    "        temp_card.append(nums)\n",
    "    b += 1"
   ]
  },
  {
   "cell_type": "code",
   "execution_count": 69,
   "id": "e2810017",
   "metadata": {},
   "outputs": [],
   "source": [
    "def when_win(c):\n",
    "    check_card = Card(c)\n",
    "    win = False\n",
    "    i = 0\n",
    "    while win is False:\n",
    "        num = calls[i]\n",
    "        check_card.called_num(num)\n",
    "        win = check_card.is_bingo()        \n",
    "        i += 1\n",
    "    win_call = calls[i-1]\n",
    "    tot = check_card.get_tot()\n",
    "    return win_call, tot, i"
   ]
  },
  {
   "cell_type": "code",
   "execution_count": 70,
   "id": "cb410d20",
   "metadata": {},
   "outputs": [],
   "source": [
    "win_info = []\n",
    "for c in all_cards:\n",
    "    win, tot, i = when_win(c)\n",
    "    win_info.append((i, win, tot))"
   ]
  },
  {
   "cell_type": "code",
   "execution_count": 72,
   "id": "c9cbe194",
   "metadata": {},
   "outputs": [],
   "source": [
    "win_sorted = sorted(win_info, key=lambda x: x[0])"
   ]
  },
  {
   "cell_type": "code",
   "execution_count": 74,
   "id": "c8f35f20",
   "metadata": {},
   "outputs": [
    {
     "data": {
      "text/plain": [
       "35217"
      ]
     },
     "execution_count": 74,
     "metadata": {},
     "output_type": "execute_result"
    }
   ],
   "source": [
    "win_sorted[0][1]*win_sorted[0][2]  #35217 too high"
   ]
  },
  {
   "cell_type": "code",
   "execution_count": null,
   "id": "556a6ff3",
   "metadata": {},
   "outputs": [],
   "source": []
  }
 ],
 "metadata": {
  "kernelspec": {
   "display_name": "Python 3 (ipykernel)",
   "language": "python",
   "name": "python3"
  },
  "language_info": {
   "codemirror_mode": {
    "name": "ipython",
    "version": 3
   },
   "file_extension": ".py",
   "mimetype": "text/x-python",
   "name": "python",
   "nbconvert_exporter": "python",
   "pygments_lexer": "ipython3",
   "version": "3.9.7"
  }
 },
 "nbformat": 4,
 "nbformat_minor": 5
}

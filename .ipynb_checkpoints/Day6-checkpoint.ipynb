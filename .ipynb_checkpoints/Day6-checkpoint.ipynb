{
 "cells": [
  {
   "cell_type": "code",
   "execution_count": 121,
   "id": "76f10b7b",
   "metadata": {},
   "outputs": [],
   "source": [
    "from collections import defaultdict\n",
    "with open('day6_input') as f:\n",
    "    fish_list = f.readline()\n",
    "fishes = fish_list.split(',')"
   ]
  },
  {
   "cell_type": "code",
   "execution_count": 122,
   "id": "1b4b5686",
   "metadata": {},
   "outputs": [],
   "source": [
    "fishes = [int(i) for i in fishes]"
   ]
  },
  {
   "cell_type": "code",
   "execution_count": null,
   "id": "fc10f813",
   "metadata": {},
   "outputs": [],
   "source": [
    "# need to keep track in aggregate"
   ]
  },
  {
   "cell_type": "code",
   "execution_count": 123,
   "id": "2906063f",
   "metadata": {},
   "outputs": [],
   "source": [
    "def age_up(yesterday):\n",
    "    tomorrow = {0:0, \n",
    "               1:0, \n",
    "               2:0,\n",
    "               3:0,\n",
    "               4:0,\n",
    "               5:0,\n",
    "               6:0,\n",
    "               7:0,\n",
    "               8:0}\n",
    "    ages = [8, 7, 6, 5, 4, 3, 2, 1, 0]\n",
    "    for age in ages:\n",
    "        if age == 0:\n",
    "            tomorrow.update({8:yesterday[age]})\n",
    "            tomorrow.update({6:tomorrow[6]+yesterday[age]})\n",
    "        else:\n",
    "            try:\n",
    "                tomorrow.update({age-1:yesterday[age]})\n",
    "            except:\n",
    "                # you're missing a year\n",
    "                pass\n",
    "    return tomorrow"
   ]
  },
  {
   "cell_type": "code",
   "execution_count": 124,
   "id": "3c1bd9af",
   "metadata": {},
   "outputs": [],
   "source": [
    "fish_count = defaultdict(int)\n",
    "for fish in fishes:\n",
    "    fish_count[fish] += 1"
   ]
  },
  {
   "cell_type": "code",
   "execution_count": 125,
   "id": "5beb8826",
   "metadata": {},
   "outputs": [],
   "source": [
    "for day in range(256):\n",
    "    if day == 0:\n",
    "        today = age_up(fish_count)\n",
    "    else: \n",
    "        today = age_up(today)"
   ]
  },
  {
   "cell_type": "code",
   "execution_count": 126,
   "id": "349ce893",
   "metadata": {},
   "outputs": [],
   "source": [
    "total_fish = 0\n",
    "for key in today.keys():\n",
    "    total_fish += today[key]"
   ]
  },
  {
   "cell_type": "code",
   "execution_count": 127,
   "id": "d4060de7",
   "metadata": {},
   "outputs": [
    {
     "data": {
      "text/plain": [
       "1765974267455"
      ]
     },
     "execution_count": 127,
     "metadata": {},
     "output_type": "execute_result"
    }
   ],
   "source": [
    "total_fish  "
   ]
  },
  {
   "cell_type": "code",
   "execution_count": null,
   "id": "0dd9ce48",
   "metadata": {},
   "outputs": [],
   "source": []
  },
  {
   "cell_type": "code",
   "execution_count": null,
   "id": "244be4b2",
   "metadata": {},
   "outputs": [],
   "source": []
  },
  {
   "cell_type": "code",
   "execution_count": null,
   "id": "7abc5333",
   "metadata": {},
   "outputs": [],
   "source": []
  },
  {
   "cell_type": "code",
   "execution_count": 54,
   "id": "6c2aae8a",
   "metadata": {},
   "outputs": [],
   "source": [
    "example = [3,4,3,1,2]\n",
    "ex_fish = defaultdict(int)\n",
    "for fish in example:\n",
    "    ex_fish[fish] += 1"
   ]
  },
  {
   "cell_type": "code",
   "execution_count": 128,
   "id": "6534905f",
   "metadata": {},
   "outputs": [],
   "source": []
  }
 ],
 "metadata": {
  "kernelspec": {
   "display_name": "Python 3 (ipykernel)",
   "language": "python",
   "name": "python3"
  },
  "language_info": {
   "codemirror_mode": {
    "name": "ipython",
    "version": 3
   },
   "file_extension": ".py",
   "mimetype": "text/x-python",
   "name": "python",
   "nbconvert_exporter": "python",
   "pygments_lexer": "ipython3",
   "version": "3.9.7"
  }
 },
 "nbformat": 4,
 "nbformat_minor": 5
}

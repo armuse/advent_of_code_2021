{
 "cells": [
  {
   "cell_type": "code",
   "execution_count": 1,
   "id": "bdb29f7d",
   "metadata": {},
   "outputs": [
    {
     "data": {
      "text/plain": [
       "'\\nPlayer 1 starting position: 4\\nPlayer 2 starting position: 10\\n'"
      ]
     },
     "execution_count": 1,
     "metadata": {},
     "output_type": "execute_result"
    }
   ],
   "source": [
    "\"\"\"\n",
    "Player 1 starting position: 4\n",
    "Player 2 starting position: 10\n",
    "\"\"\""
   ]
  },
  {
   "cell_type": "code",
   "execution_count": 13,
   "id": "153d11f1",
   "metadata": {},
   "outputs": [],
   "source": [
    "def won(score):\n",
    "    if score > 1000:\n",
    "        return True\n",
    "    else: return False"
   ]
  },
  {
   "cell_type": "code",
   "execution_count": 39,
   "id": "a9a5fe3e",
   "metadata": {},
   "outputs": [],
   "source": [
    "def take_turn(space, score, die):\n",
    "    move = 0\n",
    "    for d in range(1, 4):  # 3 rolls\n",
    "        move += (die + d)\n",
    "    total_move = move % 10  # space is between 0-10\n",
    "    if total_move == 0: total_move = 10\n",
    "    space = total_move + space\n",
    "    if space > 10: space -= 10  # space is between 0-10\n",
    "    score += space  # add new space's value to score\n",
    "    return space, score, die + 3"
   ]
  },
  {
   "cell_type": "code",
   "execution_count": 40,
   "id": "2c2cebd1",
   "metadata": {},
   "outputs": [
    {
     "data": {
      "text/plain": [
       "(6, 20, 25)"
      ]
     },
     "execution_count": 40,
     "metadata": {},
     "output_type": "execute_result"
    }
   ],
   "source": [
    "take_turn(4, 14, 22)"
   ]
  },
  {
   "cell_type": "code",
   "execution_count": 60,
   "id": "1fadfccd",
   "metadata": {},
   "outputs": [],
   "source": [
    "def dirac_dice(p1, p2):\n",
    "    score1, score2 = 0, 0\n",
    "    die = 0\n",
    "    won = False\n",
    "    turn = 1\n",
    "    winning_score = 1000\n",
    "    while won is False:\n",
    "        if turn % 2 == 1:\n",
    "            p1, score1, die = take_turn(p1, score1, die)\n",
    "        else:\n",
    "            p2, score2, die = take_turn(p2, score2, die)\n",
    "        if score1 >= winning_score or score2 >= winning_score:\n",
    "            won = True\n",
    "        turn += 1\n",
    "    if score2 > score1: \n",
    "        return die * score1\n",
    "    else: \n",
    "        return die * score2"
   ]
  },
  {
   "cell_type": "code",
   "execution_count": 61,
   "id": "14c1000d",
   "metadata": {},
   "outputs": [
    {
     "data": {
      "text/plain": [
       "855624"
      ]
     },
     "execution_count": 61,
     "metadata": {},
     "output_type": "execute_result"
    }
   ],
   "source": [
    "dirac_dice(4, 10)"
   ]
  },
  {
   "cell_type": "code",
   "execution_count": null,
   "id": "64083c8d",
   "metadata": {},
   "outputs": [],
   "source": []
  },
  {
   "cell_type": "code",
   "execution_count": null,
   "id": "e3792929",
   "metadata": {},
   "outputs": [],
   "source": []
  },
  {
   "cell_type": "code",
   "execution_count": null,
   "id": "eacc54e6",
   "metadata": {},
   "outputs": [],
   "source": []
  }
 ],
 "metadata": {
  "kernelspec": {
   "display_name": "Python 3 (ipykernel)",
   "language": "python",
   "name": "python3"
  },
  "language_info": {
   "codemirror_mode": {
    "name": "ipython",
    "version": 3
   },
   "file_extension": ".py",
   "mimetype": "text/x-python",
   "name": "python",
   "nbconvert_exporter": "python",
   "pygments_lexer": "ipython3",
   "version": "3.9.7"
  }
 },
 "nbformat": 4,
 "nbformat_minor": 5
}

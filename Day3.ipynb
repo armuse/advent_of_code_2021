{
 "cells": [
  {
   "cell_type": "code",
   "execution_count": 59,
   "id": "2fd40b1d",
   "metadata": {},
   "outputs": [],
   "source": [
    "import numpy as np"
   ]
  },
  {
   "cell_type": "code",
   "execution_count": 64,
   "id": "1fb1a6c3",
   "metadata": {},
   "outputs": [],
   "source": [
    "with open('day3_input') as f:\n",
    "    diag = f.readlines()\n",
    "diag = [d.strip() for d in diag]"
   ]
  },
  {
   "cell_type": "code",
   "execution_count": 43,
   "id": "ae95809f",
   "metadata": {},
   "outputs": [],
   "source": [
    "num_bits = len(diag[0])"
   ]
  },
  {
   "cell_type": "code",
   "execution_count": 44,
   "id": "00b10960",
   "metadata": {},
   "outputs": [],
   "source": [
    "gamma_bytes = []\n",
    "epsilon_bytes = []\n",
    "for i in range(num_bits):\n",
    "    ones = 0\n",
    "    for j in range(len(diag)):\n",
    "        if diag[j][i] == '1':\n",
    "            ones += 1\n",
    "    if ones > len(diag)/2:\n",
    "        gamma_bytes.append('1')\n",
    "        epsilon_bytes.append('0')\n",
    "    else:\n",
    "        gamma_bytes.append('0')\n",
    "        epsilon_bytes.append('1')"
   ]
  },
  {
   "cell_type": "code",
   "execution_count": 45,
   "id": "7a358d91",
   "metadata": {},
   "outputs": [
    {
     "data": {
      "text/plain": [
       "1131506"
      ]
     },
     "execution_count": 45,
     "metadata": {},
     "output_type": "execute_result"
    }
   ],
   "source": [
    "gamma = int(\"\".join(gamma_bytes), 2)\n",
    "epsilon = int(\"\".join(epsilon_bytes), 2)\n",
    "gamma * epsilon"
   ]
  },
  {
   "cell_type": "code",
   "execution_count": 49,
   "id": "3469fcf8",
   "metadata": {},
   "outputs": [
    {
     "data": {
      "text/plain": [
       "['1', '1', '1', '0', '1', '1', '0', '1', '0', '1', '0', '1']"
      ]
     },
     "execution_count": 49,
     "metadata": {},
     "output_type": "execute_result"
    }
   ],
   "source": [
    "gamma_bytes"
   ]
  },
  {
   "cell_type": "code",
   "execution_count": 46,
   "id": "249a3e73",
   "metadata": {},
   "outputs": [],
   "source": [
    "ox = []\n",
    "co2 = []\n",
    "for j in range(len(diag)):\n",
    "    if diag[j][1] == '1':\n",
    "        ones += 1\n",
    "if ones > len(diag)/2:\n",
    "    keep = '1'\n",
    "else:\n",
    "    keep = '0'\n",
    "    \n",
    "kept = []\n",
    "for d in diag:\n",
    "    if d[0] == keep:\n",
    "        kept.append(d)"
   ]
  },
  {
   "cell_type": "code",
   "execution_count": 72,
   "id": "be4cab94",
   "metadata": {},
   "outputs": [],
   "source": [
    "def ox_keep(place, diag):\n",
    "    keep_array = []\n",
    "    most = 0\n",
    "    for d in diag:\n",
    "        if d[place] == '1':\n",
    "            most += 1\n",
    "    keep_num = str(int(bool(most >= len(diag)/2)))  # integer?\n",
    "    for d in diag:\n",
    "        if d[place] == keep_num:\n",
    "            keep_array.append(d)\n",
    "    return keep_array"
   ]
  },
  {
   "cell_type": "code",
   "execution_count": 73,
   "id": "cb1b595b",
   "metadata": {},
   "outputs": [
    {
     "name": "stdout",
     "output_type": "stream",
     "text": [
      "0 504\n",
      "1 255\n",
      "2 130\n",
      "3 67\n",
      "4 37\n",
      "5 19\n",
      "6 11\n",
      "7 8\n",
      "8 5\n",
      "9 3\n",
      "10 2\n",
      "11 1\n"
     ]
    }
   ],
   "source": [
    "place = 0\n",
    "test_diag = diag\n",
    "while len(test_diag) > 1:\n",
    "    test_diag = ox_keep(place, test_diag)\n",
    "    print(place, len(test_diag))\n",
    "    place += 1"
   ]
  },
  {
   "cell_type": "code",
   "execution_count": 71,
   "id": "603ad841",
   "metadata": {},
   "outputs": [],
   "source": [
    "oxy = int(str(test_diag[0]), 2)"
   ]
  },
  {
   "cell_type": "code",
   "execution_count": 75,
   "id": "ee6b1635",
   "metadata": {},
   "outputs": [],
   "source": [
    "def co2_keep(place, diag):\n",
    "    keep_array = []\n",
    "    most = 0\n",
    "    for d in diag:\n",
    "        if d[place] == '1':\n",
    "            most += 1\n",
    "    keep_num = str(int(bool(most >= len(diag)/2)))  # integer?\n",
    "    for d in diag:\n",
    "        if d[place] != keep_num:\n",
    "            keep_array.append(d)\n",
    "    return keep_array"
   ]
  },
  {
   "cell_type": "code",
   "execution_count": 76,
   "id": "a5a9f75d",
   "metadata": {},
   "outputs": [
    {
     "name": "stdout",
     "output_type": "stream",
     "text": [
      "0 496\n",
      "1 247\n",
      "2 123\n",
      "3 54\n",
      "4 25\n",
      "5 12\n",
      "6 6\n",
      "7 3\n",
      "8 1\n"
     ]
    }
   ],
   "source": [
    "place = 0\n",
    "test_diag = diag\n",
    "while len(test_diag) > 1:\n",
    "    test_diag = co2_keep(place, test_diag)\n",
    "    print(place, len(test_diag))\n",
    "    place += 1"
   ]
  },
  {
   "cell_type": "code",
   "execution_count": 77,
   "id": "42a4dd8a",
   "metadata": {},
   "outputs": [],
   "source": [
    "co2 = int(str(test_diag[0]), 2)"
   ]
  },
  {
   "cell_type": "code",
   "execution_count": 79,
   "id": "d21e4b65",
   "metadata": {},
   "outputs": [
    {
     "data": {
      "text/plain": [
       "7863147"
      ]
     },
     "execution_count": 79,
     "metadata": {},
     "output_type": "execute_result"
    }
   ],
   "source": [
    "oxy * co2"
   ]
  },
  {
   "cell_type": "code",
   "execution_count": null,
   "id": "a5b2396c",
   "metadata": {},
   "outputs": [],
   "source": []
  }
 ],
 "metadata": {
  "kernelspec": {
   "display_name": "Python 3 (ipykernel)",
   "language": "python",
   "name": "python3"
  },
  "language_info": {
   "codemirror_mode": {
    "name": "ipython",
    "version": 3
   },
   "file_extension": ".py",
   "mimetype": "text/x-python",
   "name": "python",
   "nbconvert_exporter": "python",
   "pygments_lexer": "ipython3",
   "version": "3.9.7"
  }
 },
 "nbformat": 4,
 "nbformat_minor": 5
}

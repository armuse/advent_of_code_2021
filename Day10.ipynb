{
 "cells": [
  {
   "cell_type": "code",
   "execution_count": 1,
   "id": "594b7fc9",
   "metadata": {},
   "outputs": [],
   "source": [
    "with open('day10_input') as f:\n",
    "    navi = f.readlines()\n",
    "navi_commands = [n.strip() for n in navi]"
   ]
  },
  {
   "cell_type": "code",
   "execution_count": 2,
   "id": "fe0379d7",
   "metadata": {},
   "outputs": [],
   "source": [
    "from collections import deque"
   ]
  },
  {
   "cell_type": "code",
   "execution_count": 3,
   "id": "5dd93d82",
   "metadata": {},
   "outputs": [],
   "source": [
    "syntax_dict = {\n",
    "    \"(\":\")\",\n",
    "    \"[\":\"]\",\n",
    "    \"{\":\"}\",\n",
    "    \"<\":\">\"\n",
    "}\n",
    "error_dict = {\n",
    "    \")\":3,\n",
    "    \"]\":57,\n",
    "    \"}\":1197,\n",
    "    \">\":25137\n",
    "}\n",
    "complete_scores = {\n",
    "    \")\": 1,\n",
    "    \"]\": 2, \n",
    "    \"}\": 3,\n",
    "    \">\": 4\n",
    "}"
   ]
  },
  {
   "cell_type": "code",
   "execution_count": 4,
   "id": "43f7e1b9",
   "metadata": {},
   "outputs": [],
   "source": [
    "error = 0\n",
    "for command in navi_commands:\n",
    "    stack = deque()\n",
    "    for c in command:\n",
    "        if c in syntax_dict.keys():\n",
    "            stack.append(c)\n",
    "        else:\n",
    "            opener = stack.pop()  # assume closing character is never first\n",
    "            if c != syntax_dict[opener]:\n",
    "                error += error_dict[c]\n",
    "                break"
   ]
  },
  {
   "cell_type": "code",
   "execution_count": 5,
   "id": "a8b89a6f",
   "metadata": {},
   "outputs": [
    {
     "data": {
      "text/plain": [
       "392097"
      ]
     },
     "execution_count": 5,
     "metadata": {},
     "output_type": "execute_result"
    }
   ],
   "source": [
    "error"
   ]
  },
  {
   "cell_type": "code",
   "execution_count": null,
   "id": "957a438e",
   "metadata": {},
   "outputs": [],
   "source": [
    "#find incomplete lines"
   ]
  },
  {
   "cell_type": "code",
   "execution_count": 7,
   "id": "481cc544",
   "metadata": {},
   "outputs": [],
   "source": [
    "incomplete = []\n",
    "for command in navi_commands:\n",
    "    stack = deque()\n",
    "    corr = False\n",
    "    for c in command:\n",
    "        if c in syntax_dict.keys():\n",
    "            stack.append(c)\n",
    "        else:\n",
    "            try:\n",
    "                opener = stack.pop()\n",
    "            except:  \n",
    "                break\n",
    "            if c != syntax_dict[opener]:\n",
    "                error += error_dict[c]\n",
    "                corr = True  # incomplete\n",
    "                break\n",
    "    if not corr:\n",
    "        incomplete.append(command)"
   ]
  },
  {
   "cell_type": "code",
   "execution_count": 8,
   "id": "12441db3",
   "metadata": {},
   "outputs": [],
   "source": [
    "def create_stack(command):\n",
    "    stack = deque()\n",
    "    for c in command:\n",
    "        stack.append(c)\n",
    "    return stack\n",
    "\n",
    "def score_auto(autocomplete):\n",
    "    score = 0\n",
    "    for a in autocomplete:\n",
    "        score *= 5\n",
    "        score += complete_scores[a] \n",
    "    return score"
   ]
  },
  {
   "cell_type": "code",
   "execution_count": null,
   "id": "0aaea054",
   "metadata": {},
   "outputs": [],
   "source": []
  },
  {
   "cell_type": "code",
   "execution_count": 9,
   "id": "76ffac64",
   "metadata": {},
   "outputs": [],
   "source": [
    "autocorrections = []\n",
    "for command in incomplete:\n",
    "    stack = create_stack(command)\n",
    "    auto = []\n",
    "    second_stack = deque()\n",
    "    while len(stack) > 0:\n",
    "        check = stack.pop()\n",
    "        if check in syntax_dict.keys() and len(second_stack) == 0:\n",
    "            auto.append(syntax_dict[check])\n",
    "        elif check in syntax_dict.values():\n",
    "            second_stack.appendleft(check)\n",
    "        else:\n",
    "            char = syntax_dict[check]\n",
    "            second_stack.remove(char)\n",
    "    autocorrections.append(''.join(auto))"
   ]
  },
  {
   "cell_type": "code",
   "execution_count": 10,
   "id": "59be5bf4",
   "metadata": {},
   "outputs": [],
   "source": [
    "#score the incomplete lines\n",
    "autocorr_scores = []\n",
    "for correction in autocorrections:\n",
    "    autocorr_scores.append(score_auto(correction))"
   ]
  },
  {
   "cell_type": "code",
   "execution_count": 11,
   "id": "ec9a7d06",
   "metadata": {},
   "outputs": [],
   "source": [
    "#sort and find middle"
   ]
  },
  {
   "cell_type": "code",
   "execution_count": 12,
   "id": "05988b3d",
   "metadata": {},
   "outputs": [
    {
     "data": {
      "text/plain": [
       "4263222782"
      ]
     },
     "execution_count": 12,
     "metadata": {},
     "output_type": "execute_result"
    }
   ],
   "source": [
    "middle_score = sorted(autocorr_scores)[len(autocorr_scores) // 2]\n",
    "middle_score   # 4368899031 too high"
   ]
  },
  {
   "cell_type": "code",
   "execution_count": null,
   "id": "acc63bb7",
   "metadata": {},
   "outputs": [],
   "source": []
  }
 ],
 "metadata": {
  "kernelspec": {
   "display_name": "Python 3 (ipykernel)",
   "language": "python",
   "name": "python3"
  },
  "language_info": {
   "codemirror_mode": {
    "name": "ipython",
    "version": 3
   },
   "file_extension": ".py",
   "mimetype": "text/x-python",
   "name": "python",
   "nbconvert_exporter": "python",
   "pygments_lexer": "ipython3",
   "version": "3.9.7"
  }
 },
 "nbformat": 4,
 "nbformat_minor": 5
}

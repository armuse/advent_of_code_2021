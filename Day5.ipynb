{
 "cells": [
  {
   "cell_type": "code",
   "execution_count": 1,
   "id": "5d83eea7",
   "metadata": {},
   "outputs": [],
   "source": [
    "with open('day5_input') as f:\n",
    "    lines = f.readlines()\n",
    "lines = [l.strip() for l in lines]"
   ]
  },
  {
   "cell_type": "code",
   "execution_count": 2,
   "id": "58b12d60",
   "metadata": {},
   "outputs": [],
   "source": [
    "import numpy as np\n",
    "import re\n",
    "from collections import Counter"
   ]
  },
  {
   "cell_type": "code",
   "execution_count": 114,
   "id": "fc45bcbf",
   "metadata": {},
   "outputs": [],
   "source": [
    "def points(coords):\n",
    "    start, end = re.split(' -> ', coords)\n",
    "    startx, starty = re.split(',', start)\n",
    "    endx, endy = re.split(',', end)\n",
    "    points = [startx, endx, starty, endy]\n",
    "    points = [int(point) for point in points]\n",
    "    return points  # returns (x1, x2, y1, y2)"
   ]
  },
  {
   "cell_type": "code",
   "execution_count": 115,
   "id": "f413609b",
   "metadata": {},
   "outputs": [
    {
     "data": {
      "text/plain": [
       "990"
      ]
     },
     "execution_count": 115,
     "metadata": {},
     "output_type": "execute_result"
    }
   ],
   "source": [
    "all_points = 0\n",
    "for line in lines:\n",
    "    coords = points(line)\n",
    "    if max(coords) > all_points:\n",
    "        all_points = max(coords)\n",
    "all_points"
   ]
  },
  {
   "cell_type": "code",
   "execution_count": 116,
   "id": "5bb05fb2",
   "metadata": {},
   "outputs": [],
   "source": [
    "def straight_line(points):\n",
    "    x1, x2, y1, y2 = points\n",
    "    if x1 == x2:\n",
    "        if y2 > y1:\n",
    "            return [1, x1, [y1, y2]]\n",
    "        else:\n",
    "            return [1, x1, [y2, y1]]\n",
    "    elif y1 == y2:\n",
    "        if x2 > x1:\n",
    "            return [2, [x1, x2], y1]\n",
    "        else:\n",
    "            return [2, [x2, x1], y1]\n",
    "    else:\n",
    "        return [0]"
   ]
  },
  {
   "cell_type": "code",
   "execution_count": 117,
   "id": "87983984",
   "metadata": {},
   "outputs": [],
   "source": [
    "def diag_points(points):\n",
    "    x1, x2, y1, y2 = points\n",
    "    out_points = []\n",
    "    xtraverse = 1\n",
    "    ytraverse = 1\n",
    "    if x1 > x2: xtraverse *= -1\n",
    "    if y1 > y2: ytraverse *= -1\n",
    "    y = y1\n",
    "    for x in range(x1, x2 + xtraverse, xtraverse):\n",
    "        out_points.append((x, y))\n",
    "        y += ytraverse\n",
    "    return out_points"
   ]
  },
  {
   "cell_type": "code",
   "execution_count": 119,
   "id": "a4d07101",
   "metadata": {},
   "outputs": [],
   "source": [
    "vent_points = []\n",
    "for line in lines:\n",
    "    coords = points(line)\n",
    "    straight = straight_line(coords)\n",
    "    if straight[0] == 0:  # diagonal\n",
    "        diag = diag_points(coords)\n",
    "        vent_points.extend(diag)\n",
    "    elif straight[0] == 1:\n",
    "        for y in range(straight[2][0], straight[2][1]+1):\n",
    "            vent_points.append((straight[1], y))\n",
    "    elif straight[0] == 2:\n",
    "        for x in range(straight[1][0], straight[1][1]+1):\n",
    "            vent_points.append((x, straight[2]))"
   ]
  },
  {
   "cell_type": "code",
   "execution_count": 120,
   "id": "da52f1f9",
   "metadata": {},
   "outputs": [
    {
     "data": {
      "text/plain": [
       "16793"
      ]
     },
     "execution_count": 120,
     "metadata": {},
     "output_type": "execute_result"
    }
   ],
   "source": [
    "multivent = [1 for i in Counter(vent_points).values() if i > 1]\n",
    "len(multivent)"
   ]
  }
 ],
 "metadata": {
  "kernelspec": {
   "display_name": "Python 3 (ipykernel)",
   "language": "python",
   "name": "python3"
  },
  "language_info": {
   "codemirror_mode": {
    "name": "ipython",
    "version": 3
   },
   "file_extension": ".py",
   "mimetype": "text/x-python",
   "name": "python",
   "nbconvert_exporter": "python",
   "pygments_lexer": "ipython3",
   "version": "3.9.7"
  }
 },
 "nbformat": 4,
 "nbformat_minor": 5
}

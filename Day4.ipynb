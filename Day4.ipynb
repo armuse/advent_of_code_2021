{
 "cells": [
  {
   "cell_type": "code",
   "execution_count": 76,
   "id": "77ed65b0",
   "metadata": {},
   "outputs": [],
   "source": [
    "import copy"
   ]
  },
  {
   "cell_type": "code",
   "execution_count": 79,
   "id": "327f75cc",
   "metadata": {},
   "outputs": [],
   "source": [
    "with open('day4_input') as f:\n",
    "    bingo = f.readlines()\n",
    "bingo = [b.strip() for b in bingo]"
   ]
  },
  {
   "cell_type": "code",
   "execution_count": 80,
   "id": "a7d25960",
   "metadata": {},
   "outputs": [],
   "source": [
    "bingo_calls = bingo[0]\n",
    "calls = bingo_calls.split(',')\n",
    "calls = [int(call) for call in calls]"
   ]
  },
  {
   "cell_type": "code",
   "execution_count": 81,
   "id": "429c9c3f",
   "metadata": {},
   "outputs": [],
   "source": [
    "calls = bingo_calls.split(',')\n",
    "calls = [int(call) for call in calls]"
   ]
  },
  {
   "cell_type": "code",
   "execution_count": 112,
   "id": "0923ea57",
   "metadata": {},
   "outputs": [],
   "source": [
    "class Card():\n",
    "    def __init__(self, array):\n",
    "        self.row1 = [x for x in array[0]]\n",
    "        self.row2 = [x for x in array[1]]\n",
    "        self.row3 = [x for x in array[2]]\n",
    "        self.row4 = [x for x in array[3]]\n",
    "        self.row5 = [x for x in array[4]]\n",
    "        self.col1 = [x[0] for x in array]\n",
    "        self.col2 = [x[1] for x in array]\n",
    "        self.col3 = [x[2] for x in array]\n",
    "        self.col4 = [x[3] for x in array]\n",
    "        self.col5 = [x[4] for x in array]\n",
    "    def is_bingo(self):\n",
    "        if len(self.row1) == 0 or len(self.row2) == 0 or len(self.row3) == 0 or len(self.row4) == 0 or len(self.row5) == 0:\n",
    "            return True\n",
    "        elif len(self.col1) == 0 or len(self.col2) == 0 or len(self.row3) == 0 or len(self.row4) == 0 or len(self.row5) == 0:\n",
    "            return True\n",
    "        else:\n",
    "            return False\n",
    "    def called_num(self, num):\n",
    "        if num in self.row1: self.row1.remove(num)\n",
    "        if num in self.row2: self.row2.remove(num)\n",
    "        if num in self.row3: self.row3.remove(num)\n",
    "        if num in self.row4: self.row4.remove(num)\n",
    "        if num in self.row5: self.row5.remove(num)\n",
    "        if num in self.col1: self.col1.remove(num)\n",
    "        if num in self.col2: self.col2.remove(num)\n",
    "        if num in self.col3: self.col3.remove(num)\n",
    "        if num in self.col4: self.col4.remove(num)\n",
    "        if num in self.col5: self.col5.remove(num)\n",
    "    def get_tot(self):\n",
    "        remaining_card = [self.col1, self.col2, self.col3, self.col4, self.col5]\n",
    "        tot = 0\n",
    "        for r in remaining_card:\n",
    "            r_sum =  0\n",
    "            for cell in r:\n",
    "                r_sum += cell\n",
    "            tot += r_sum\n",
    "        return tot\n",
    "    "
   ]
  },
  {
   "cell_type": "code",
   "execution_count": 113,
   "id": "a521e527",
   "metadata": {},
   "outputs": [],
   "source": [
    "b = 0\n",
    "temp_card = []\n",
    "all_cards = []\n",
    "while b < len(bingo):\n",
    "    if b < 2: pass\n",
    "    elif bingo[b] == '': \n",
    "        if len(temp_card) > 1: \n",
    "            all_cards.append(temp_card)\n",
    "            temp_card = []\n",
    "    else:\n",
    "        nums = bingo[b].split()\n",
    "        nums = [int(num) for num in nums]\n",
    "        temp_card.append(nums)\n",
    "    b += 1"
   ]
  },
  {
   "cell_type": "code",
   "execution_count": 130,
   "id": "75767256",
   "metadata": {},
   "outputs": [],
   "source": [
    "def when_win(c):\n",
    "    check_card = Card(c)\n",
    "    win = False\n",
    "    i = 0\n",
    "    while win is False:\n",
    "        num = calls[i]\n",
    "        check_card.called_num(num)\n",
    "        win = check_card.is_bingo()\n",
    "        if win:\n",
    "            win_call = num\n",
    "        i += 1\n",
    "    tot = check_card.get_tot()\n",
    "    print(i, win_call)\n",
    "    return win_call, tot, i"
   ]
  },
  {
   "cell_type": "code",
   "execution_count": 131,
   "id": "5099bcff",
   "metadata": {},
   "outputs": [
    {
     "name": "stdout",
     "output_type": "stream",
     "text": [
      "72 14\n",
      "71 58\n",
      "81 86\n",
      "44 63\n",
      "65 55\n",
      "52 16\n",
      "61 30\n",
      "68 8\n",
      "82 27\n",
      "79 74\n",
      "66 91\n",
      "39 57\n",
      "82 27\n",
      "66 91\n",
      "75 44\n",
      "45 72\n",
      "35 43\n",
      "58 4\n",
      "66 91\n",
      "43 6\n",
      "50 28\n",
      "69 71\n",
      "62 19\n",
      "68 8\n",
      "63 90\n",
      "58 4\n",
      "54 11\n",
      "58 4\n",
      "64 24\n",
      "67 15\n",
      "69 71\n",
      "73 60\n",
      "62 19\n",
      "68 8\n",
      "74 48\n",
      "64 24\n",
      "47 21\n",
      "65 55\n",
      "63 90\n",
      "82 27\n",
      "66 91\n",
      "48 54\n",
      "69 71\n",
      "68 8\n",
      "77 47\n",
      "63 90\n",
      "61 30\n",
      "80 87\n",
      "51 65\n",
      "68 8\n",
      "73 60\n",
      "57 96\n",
      "53 76\n",
      "66 91\n",
      "66 91\n",
      "49 23\n",
      "53 76\n",
      "41 80\n",
      "67 15\n",
      "54 11\n",
      "50 28\n",
      "68 8\n",
      "55 20\n",
      "82 27\n",
      "78 85\n",
      "47 21\n",
      "53 76\n",
      "59 10\n",
      "83 42\n",
      "79 74\n",
      "70 99\n",
      "74 48\n",
      "87 94\n",
      "45 72\n",
      "62 19\n",
      "36 0\n",
      "54 11\n",
      "53 76\n",
      "77 47\n",
      "61 30\n",
      "68 8\n",
      "70 99\n",
      "59 10\n",
      "76 17\n",
      "66 91\n",
      "57 96\n",
      "46 98\n",
      "48 54\n",
      "71 58\n",
      "76 17\n",
      "79 74\n",
      "39 57\n",
      "75 44\n",
      "77 47\n",
      "63 90\n",
      "67 15\n",
      "65 55\n",
      "69 71\n",
      "71 58\n"
     ]
    }
   ],
   "source": [
    "win_info = []\n",
    "for c in all_cards:\n",
    "    win, tot, i = when_win(c)\n",
    "    win_info.append((i, win, tot))"
   ]
  },
  {
   "cell_type": "code",
   "execution_count": 132,
   "id": "48c3c918",
   "metadata": {},
   "outputs": [],
   "source": [
    "win_sorted = sorted(win_info, key=lambda x: x[0])"
   ]
  },
  {
   "cell_type": "code",
   "execution_count": 133,
   "id": "413452b6",
   "metadata": {},
   "outputs": [
    {
     "data": {
      "text/plain": [
       "(35, 43, 819)"
      ]
     },
     "execution_count": 133,
     "metadata": {},
     "output_type": "execute_result"
    }
   ],
   "source": [
    "win_sorted[0]"
   ]
  },
  {
   "cell_type": "code",
   "execution_count": 127,
   "id": "8bdd6ba4",
   "metadata": {},
   "outputs": [
    {
     "data": {
      "text/plain": [
       "35217"
      ]
     },
     "execution_count": 127,
     "metadata": {},
     "output_type": "execute_result"
    }
   ],
   "source": [
    "win_sorted[0][1]*win_sorted[0][2]  #35217 too high"
   ]
  },
  {
   "cell_type": "code",
   "execution_count": 111,
   "id": "9a603250",
   "metadata": {},
   "outputs": [
    {
     "data": {
      "text/plain": [
       "(35, 43, 819)"
      ]
     },
     "execution_count": 111,
     "metadata": {},
     "output_type": "execute_result"
    }
   ],
   "source": [
    "win_sorted[0]"
   ]
  },
  {
   "cell_type": "code",
   "execution_count": 105,
   "id": "143f368b",
   "metadata": {},
   "outputs": [
    {
     "data": {
      "text/plain": [
       "[[73, 37, 57, 65, 0],\n",
       " [64, 26, 52, 79, 69],\n",
       " [15, 41, 3, 2, 1],\n",
       " [71, 48, 8, 43, 31],\n",
       " [5, 93, 86, 42, 27]]"
      ]
     },
     "execution_count": 105,
     "metadata": {},
     "output_type": "execute_result"
    }
   ],
   "source": [
    "all_cards[34]"
   ]
  },
  {
   "cell_type": "code",
   "execution_count": 92,
   "id": "28aa21eb",
   "metadata": {},
   "outputs": [
    {
     "data": {
      "text/plain": [
       "[[59, 35, 19, 17, 83],\n",
       " [15, 93, 53, 2, 4],\n",
       " [26, 51, 85, 71, 22],\n",
       " [31, 52, 74, 12, 57],\n",
       " [70, 40, 68, 39, 24]]"
      ]
     },
     "execution_count": 92,
     "metadata": {},
     "output_type": "execute_result"
    }
   ],
   "source": [
    "all_cards[win_sorted[0][0]]"
   ]
  },
  {
   "cell_type": "code",
   "execution_count": 106,
   "id": "6df15df9",
   "metadata": {},
   "outputs": [],
   "source": [
    "all_cells = []\n",
    "for row in all_cards[35]:\n",
    "    for x in row:\n",
    "        all_cells.append(x)"
   ]
  },
  {
   "cell_type": "code",
   "execution_count": 109,
   "id": "ac616077",
   "metadata": {},
   "outputs": [
    {
     "data": {
      "text/plain": [
       "[69,\n",
       " 88,\n",
       " 67,\n",
       " 56,\n",
       " 53,\n",
       " 97,\n",
       " 46,\n",
       " 29,\n",
       " 37,\n",
       " 51,\n",
       " 3,\n",
       " 93,\n",
       " 92,\n",
       " 78,\n",
       " 41,\n",
       " 22,\n",
       " 45,\n",
       " 66,\n",
       " 13,\n",
       " 82,\n",
       " 2,\n",
       " 7,\n",
       " 52,\n",
       " 40,\n",
       " 18,\n",
       " 70,\n",
       " 32,\n",
       " 95,\n",
       " 89,\n",
       " 64,\n",
       " 84,\n",
       " 68,\n",
       " 83,\n",
       " 26,\n",
       " 43]"
      ]
     },
     "execution_count": 109,
     "metadata": {},
     "output_type": "execute_result"
    }
   ],
   "source": [
    "for call in calls[:35]:\n",
    "    "
   ]
  },
  {
   "cell_type": "code",
   "execution_count": null,
   "id": "ae9fbc95",
   "metadata": {},
   "outputs": [],
   "source": []
  }
 ],
 "metadata": {
  "kernelspec": {
   "display_name": "Python 3 (ipykernel)",
   "language": "python",
   "name": "python3"
  },
  "language_info": {
   "codemirror_mode": {
    "name": "ipython",
    "version": 3
   },
   "file_extension": ".py",
   "mimetype": "text/x-python",
   "name": "python",
   "nbconvert_exporter": "python",
   "pygments_lexer": "ipython3",
   "version": "3.9.7"
  }
 },
 "nbformat": 4,
 "nbformat_minor": 5
}

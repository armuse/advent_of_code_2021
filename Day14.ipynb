{
 "cells": [
  {
   "cell_type": "code",
   "execution_count": 22,
   "id": "4c25dadb",
   "metadata": {},
   "outputs": [],
   "source": [
    "from collections import Counter"
   ]
  },
  {
   "cell_type": "code",
   "execution_count": 23,
   "id": "f3b1faa0",
   "metadata": {},
   "outputs": [],
   "source": [
    "with open('day14_input') as f:\n",
    "    polymerization = f.readlines()\n",
    "template = polymerization[0].strip()\n",
    "pairs = [p.strip() for p in polymerization[2:]]"
   ]
  },
  {
   "cell_type": "code",
   "execution_count": 24,
   "id": "0534da14",
   "metadata": {},
   "outputs": [],
   "source": [
    "pair_dict = {}\n",
    "for pair in pairs:\n",
    "    pair_dict.update({pair[:2]:pair[-1]})"
   ]
  },
  {
   "cell_type": "code",
   "execution_count": 25,
   "id": "6b99c08a",
   "metadata": {},
   "outputs": [],
   "source": [
    "for j in range(0, 20):\n",
    "    to_insert = []\n",
    "    for i in range(len(template)-1):\n",
    "        to_insert.append(pair_dict[template[i:i+2]])\n",
    "    new_template = []\n",
    "    for t in range(len(template)-1):\n",
    "        new_template.append(template[t])\n",
    "        new_template.append(to_insert[t])\n",
    "    new_template.append(template[-1])\n",
    "    template = ''.join(new_template)"
   ]
  },
  {
   "cell_type": "code",
   "execution_count": 16,
   "id": "4df8dc74",
   "metadata": {},
   "outputs": [],
   "source": [
    "temp_list = list(template)\n",
    "poly_count = Counter(temp_list)"
   ]
  },
  {
   "cell_type": "code",
   "execution_count": 17,
   "id": "6eadecb2",
   "metadata": {},
   "outputs": [
    {
     "data": {
      "text/plain": [
       "8844255"
      ]
     },
     "execution_count": 17,
     "metadata": {},
     "output_type": "execute_result"
    }
   ],
   "source": [
    "poly_count.most_common()[0][1] - poly_count.most_common()[-1][1]"
   ]
  },
  {
   "cell_type": "code",
   "execution_count": 26,
   "id": "2250b83d",
   "metadata": {},
   "outputs": [
    {
     "ename": "KeyboardInterrupt",
     "evalue": "",
     "output_type": "error",
     "traceback": [
      "\u001b[1;31m---------------------------------------------------------------------------\u001b[0m",
      "\u001b[1;31mKeyboardInterrupt\u001b[0m                         Traceback (most recent call last)",
      "\u001b[1;32m~\\AppData\\Local\\Temp/ipykernel_58852/899724982.py\u001b[0m in \u001b[0;36m<module>\u001b[1;34m\u001b[0m\n\u001b[0;32m      6\u001b[0m     \u001b[1;32mfor\u001b[0m \u001b[0mt\u001b[0m \u001b[1;32min\u001b[0m \u001b[0mrange\u001b[0m\u001b[1;33m(\u001b[0m\u001b[0mlen\u001b[0m\u001b[1;33m(\u001b[0m\u001b[0mtemplate\u001b[0m\u001b[1;33m)\u001b[0m\u001b[1;33m-\u001b[0m\u001b[1;36m1\u001b[0m\u001b[1;33m)\u001b[0m\u001b[1;33m:\u001b[0m\u001b[1;33m\u001b[0m\u001b[1;33m\u001b[0m\u001b[0m\n\u001b[0;32m      7\u001b[0m         \u001b[0mnew_template\u001b[0m\u001b[1;33m.\u001b[0m\u001b[0mappend\u001b[0m\u001b[1;33m(\u001b[0m\u001b[0mtemplate\u001b[0m\u001b[1;33m[\u001b[0m\u001b[0mt\u001b[0m\u001b[1;33m]\u001b[0m\u001b[1;33m)\u001b[0m\u001b[1;33m\u001b[0m\u001b[1;33m\u001b[0m\u001b[0m\n\u001b[1;32m----> 8\u001b[1;33m         \u001b[0mnew_template\u001b[0m\u001b[1;33m.\u001b[0m\u001b[0mappend\u001b[0m\u001b[1;33m(\u001b[0m\u001b[0mto_insert\u001b[0m\u001b[1;33m[\u001b[0m\u001b[0mt\u001b[0m\u001b[1;33m]\u001b[0m\u001b[1;33m)\u001b[0m\u001b[1;33m\u001b[0m\u001b[1;33m\u001b[0m\u001b[0m\n\u001b[0m\u001b[0;32m      9\u001b[0m     \u001b[0mnew_template\u001b[0m\u001b[1;33m.\u001b[0m\u001b[0mappend\u001b[0m\u001b[1;33m(\u001b[0m\u001b[0mtemplate\u001b[0m\u001b[1;33m[\u001b[0m\u001b[1;33m-\u001b[0m\u001b[1;36m1\u001b[0m\u001b[1;33m]\u001b[0m\u001b[1;33m)\u001b[0m\u001b[1;33m\u001b[0m\u001b[1;33m\u001b[0m\u001b[0m\n\u001b[0;32m     10\u001b[0m     \u001b[0mtemplate\u001b[0m \u001b[1;33m=\u001b[0m \u001b[1;34m''\u001b[0m\u001b[1;33m.\u001b[0m\u001b[0mjoin\u001b[0m\u001b[1;33m(\u001b[0m\u001b[0mnew_template\u001b[0m\u001b[1;33m)\u001b[0m\u001b[1;33m\u001b[0m\u001b[1;33m\u001b[0m\u001b[0m\n",
      "\u001b[1;31mKeyboardInterrupt\u001b[0m: "
     ]
    }
   ],
   "source": [
    "for j in range(0, 10):\n",
    "    to_insert = []\n",
    "    for i in range(len(template)-1):\n",
    "        to_insert.append(pair_dict[template[i:i+2]])\n",
    "    new_template = []\n",
    "    for t in range(len(template)-1):\n",
    "        new_template.append(template[t])\n",
    "        new_template.append(to_insert[t])\n",
    "    new_template.append(template[-1])\n",
    "    template = ''.join(new_template)"
   ]
  },
  {
   "cell_type": "code",
   "execution_count": null,
   "id": "c768a58b",
   "metadata": {},
   "outputs": [],
   "source": [
    "temp_list = list(template)\n",
    "poly_count = Counter(temp_list)\n",
    "poly_count.most_common()[0][1] - poly_count.most_common()[-1][1]"
   ]
  },
  {
   "cell_type": "code",
   "execution_count": null,
   "id": "4cd6cb39",
   "metadata": {},
   "outputs": [],
   "source": []
  },
  {
   "cell_type": "code",
   "execution_count": null,
   "id": "c80fc419",
   "metadata": {},
   "outputs": [],
   "source": []
  }
 ],
 "metadata": {
  "kernelspec": {
   "display_name": "Python 3 (ipykernel)",
   "language": "python",
   "name": "python3"
  },
  "language_info": {
   "codemirror_mode": {
    "name": "ipython",
    "version": 3
   },
   "file_extension": ".py",
   "mimetype": "text/x-python",
   "name": "python",
   "nbconvert_exporter": "python",
   "pygments_lexer": "ipython3",
   "version": "3.9.7"
  }
 },
 "nbformat": 4,
 "nbformat_minor": 5
}

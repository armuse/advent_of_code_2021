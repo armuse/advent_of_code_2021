{
 "cells": [
  {
   "cell_type": "code",
   "execution_count": 2,
   "id": "8579e907",
   "metadata": {},
   "outputs": [],
   "source": [
    "with open('day1_input') as f:\n",
    "    sonar = f.readlines()\n",
    "sonar = [int(s.strip()) for s in sonar]"
   ]
  },
  {
   "cell_type": "code",
   "execution_count": 3,
   "id": "7b64c39b",
   "metadata": {},
   "outputs": [],
   "source": [
    "#calculate if subsequent reading is increased (deeper)\n",
    "deeper = 0\n",
    "for r, reading in enumerate(sonar):\n",
    "    if r == 0: pass\n",
    "    if sonar[r - 1] < reading:\n",
    "        deeper += 1"
   ]
  },
  {
   "cell_type": "code",
   "execution_count": 4,
   "id": "544b3bf9",
   "metadata": {},
   "outputs": [
    {
     "name": "stdout",
     "output_type": "stream",
     "text": [
      "1475\n"
     ]
    }
   ],
   "source": [
    "print(deeper)"
   ]
  },
  {
   "cell_type": "code",
   "execution_count": 5,
   "id": "3e31f6f0",
   "metadata": {},
   "outputs": [],
   "source": [
    "#do a 3-value sliding window and see how many are deeper\n",
    "deeper_window = 0\n",
    "previous_win = sonar[0] + sonar[1] + sonar[3]\n",
    "for r in range(1, len(sonar) - 2):\n",
    "    new_window = sonar[r] + sonar[r + 1] + sonar[r + 2]\n",
    "    if new_window > previous_win:\n",
    "        deeper_window += 1\n",
    "    previous_win = new_window"
   ]
  },
  {
   "cell_type": "code",
   "execution_count": 6,
   "id": "10bde247",
   "metadata": {},
   "outputs": [
    {
     "data": {
      "text/plain": [
       "1516"
      ]
     },
     "execution_count": 6,
     "metadata": {},
     "output_type": "execute_result"
    }
   ],
   "source": [
    "deeper_window"
   ]
  },
  {
   "cell_type": "code",
   "execution_count": null,
   "id": "fcc7c1e4",
   "metadata": {},
   "outputs": [],
   "source": []
  }
 ],
 "metadata": {
  "kernelspec": {
   "display_name": "Python 3 (ipykernel)",
   "language": "python",
   "name": "python3"
  },
  "language_info": {
   "codemirror_mode": {
    "name": "ipython",
    "version": 3
   },
   "file_extension": ".py",
   "mimetype": "text/x-python",
   "name": "python",
   "nbconvert_exporter": "python",
   "pygments_lexer": "ipython3",
   "version": "3.9.7"
  }
 },
 "nbformat": 4,
 "nbformat_minor": 5
}
